{
  "nbformat": 4,
  "nbformat_minor": 0,
  "metadata": {
    "colab": {
      "name": "Aula-01-IA.ipynb",
      "provenance": [],
      "authorship_tag": "ABX9TyOfM18abGUFbZbbwuyefUWf",
      "include_colab_link": true
    },
    "kernelspec": {
      "name": "python3",
      "display_name": "Python 3"
    },
    "language_info": {
      "name": "python"
    }
  },
  "cells": [
    {
      "cell_type": "markdown",
      "metadata": {
        "id": "view-in-github",
        "colab_type": "text"
      },
      "source": [
        "<a href=\"https://colab.research.google.com/github/Yago77/Programinhas/blob/master/Aula_01_IA.ipynb\" target=\"_parent\"><img src=\"https://colab.research.google.com/assets/colab-badge.svg\" alt=\"Open In Colab\"/></a>"
      ]
    },
    {
      "cell_type": "markdown",
      "source": [
        "# **Primeiros passos do Tratamento de Dados na Nuvem - Yago  Walter** "
      ],
      "metadata": {
        "id": "Kzx-lh0hCXGP"
      }
    },
    {
      "cell_type": "code",
      "source": [
        "a = 10\n",
        "b = 40\n",
        "c = (a + b)\n",
        "print('o valor total é',c)"
      ],
      "metadata": {
        "colab": {
          "base_uri": "https://localhost:8080/"
        },
        "id": "x4BHhUd5CxfY",
        "outputId": "896c04f0-ddab-4519-bd3b-e1132da30d8e"
      },
      "execution_count": 2,
      "outputs": [
        {
          "output_type": "stream",
          "name": "stdout",
          "text": [
            "o valor total é 50\n"
          ]
        }
      ]
    },
    {
      "cell_type": "code",
      "source": [
        ""
      ],
      "metadata": {
        "id": "GqfD3L2rDrb0"
      },
      "execution_count": null,
      "outputs": []
    }
  ]
}